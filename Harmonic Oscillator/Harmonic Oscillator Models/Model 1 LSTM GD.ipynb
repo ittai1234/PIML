{
 "cells": [
  {
   "cell_type": "code",
   "execution_count": null,
   "metadata": {},
   "outputs": [],
   "source": [
    "import tensorflow as tf\n",
    "import numpy as np\n",
    "import matplotlib.pyplot as plt\n",
    "from scipy.integrate import solve_ivp\n",
    "import matplotlib.animation as animation"
   ]
  },
  {
   "cell_type": "code",
   "execution_count": null,
   "metadata": {},
   "outputs": [],
   "source": [
    "omega = 5.0"
   ]
  },
  {
   "cell_type": "code",
   "execution_count": null,
   "metadata": {},
   "outputs": [],
   "source": [
    "model = tf.keras.models.Sequential([\n",
    "    tf.keras.layers.LSTM(64, return_sequences=True, input_shape=(None, 2)),\n",
    "    tf.keras.layers.LSTM(64),\n",
    "    tf.keras.layers.Dense(2)\n",
    "])"
   ]
  },
  {
   "cell_type": "code",
   "execution_count": null,
   "metadata": {},
   "outputs": [],
   "source": [
    "model.compile(optimizer='adam', loss='mse')"
   ]
  },
  {
   "cell_type": "code",
   "execution_count": null,
   "metadata": {},
   "outputs": [],
   "source": [
    "def harmonic_oscillator(t, y):\n",
    "    x, v = y\n",
    "    dx_dt = v\n",
    "    dv_dt = -omega**2 * x\n",
    "    return [dx_dt, dv_dt]"
   ]
  },
  {
   "cell_type": "code",
   "execution_count": null,
   "metadata": {},
   "outputs": [],
   "source": [
    "initial_conditions = [1.0, 0.0]  \n",
    "sol = solve_ivp(harmonic_oscillator, [0, 10], initial_conditions, t_eval=np.linspace(0, 10, 110))"
   ]
  },
  {
   "cell_type": "code",
   "execution_count": null,
   "metadata": {},
   "outputs": [],
   "source": [
    "X_train = []\n",
    "Y_train = []"
   ]
  },
  {
   "cell_type": "code",
   "execution_count": null,
   "metadata": {},
   "outputs": [],
   "source": [
    "for i in range(len(sol.t) - 10):\n",
    "    X_train.append(sol.y[:, i:i+10].T)\n",
    "    Y_train.append(sol.y[:, i+10])\n",
    "\n",
    "X_train = np.array(X_train)\n",
    "Y_train = np.array(Y_train)"
   ]
  },
  {
   "cell_type": "code",
   "execution_count": null,
   "metadata": {},
   "outputs": [],
   "source": [
    "model.fit(X_train, Y_train, epochs=100)"
   ]
  },
  {
   "cell_type": "code",
   "execution_count": null,
   "metadata": {},
   "outputs": [],
   "source": [
    "initial_conditions_test = sol.y[:, :10].T"
   ]
  },
  {
   "cell_type": "code",
   "execution_count": null,
   "metadata": {},
   "outputs": [],
   "source": [
    "predictions = []"
   ]
  },
  {
   "cell_type": "code",
   "execution_count": null,
   "metadata": {},
   "outputs": [],
   "source": [
    "for _ in range(100):\n",
    "    prediction = model.predict(initial_conditions_test.reshape(1, 10, 2))\n",
    "    predictions.append(prediction[0])\n",
    "    \n",
    "    initial_conditions_test = np.roll(initial_conditions_test, -1, axis=0)\n",
    "    initial_conditions_test[-1, :] = prediction\n",
    "\n",
    "predictions = np.array(predictions)"
   ]
  },
  {
   "cell_type": "code",
   "execution_count": null,
   "metadata": {},
   "outputs": [],
   "source": [
    "true_states = sol.y[:, 10:110].T"
   ]
  },
  {
   "cell_type": "code",
   "execution_count": null,
   "metadata": {},
   "outputs": [],
   "source": [
    "time = np.arange(len(predictions))"
   ]
  },
  {
   "cell_type": "code",
   "execution_count": null,
   "metadata": {},
   "outputs": [],
   "source": [
    "plt.figure(figsize=(12, 8))\n",
    "\n",
    "plt.subplot(2, 1, 1)\n",
    "plt.plot(time, predictions[:, 0], label='Predicted')\n",
    "plt.plot(time, true_states[:, 0], label='True')\n",
    "plt.xlabel('Time')\n",
    "plt.ylabel('Position')\n",
    "plt.legend()\n",
    "\n",
    "plt.subplot(2, 1, 2)\n",
    "plt.plot(time, predictions[:, 1], label='Predicted')\n",
    "plt.plot(time, true_states[:, 1], label='True')\n",
    "plt.xlabel('Time')\n",
    "plt.ylabel('Velocity')\n",
    "plt.legend()\n",
    "\n",
    "plt.tight_layout()\n",
    "plt.show()"
   ]
  },
  {
   "cell_type": "code",
   "execution_count": null,
   "metadata": {},
   "outputs": [],
   "source": [
    "fig, (ax1, ax2) = plt.subplots(1, 2, figsize=(10, 5))"
   ]
  },
  {
   "cell_type": "code",
   "execution_count": null,
   "metadata": {},
   "outputs": [],
   "source": [
    "ax1.set_xlim(-1.5, 1.5)\n",
    "ax1.set_ylim(-1.5, 1.5)\n",
    "ax2.set_xlim(-1.5, 1.5)\n",
    "ax2.set_ylim(-1.5, 1.5)"
   ]
  },
  {
   "cell_type": "code",
   "execution_count": null,
   "metadata": {},
   "outputs": [],
   "source": [
    "line_true, = ax1.plot([], [], '-', lw=2, alpha=0.5)\n",
    "line_pred, = ax2.plot([], [], '-', lw=2, alpha=0.5)\n",
    "point_true, = ax1.plot([], [], 'o', lw=2)\n",
    "point_pred, = ax2.plot([], [], 'o', lw=2)"
   ]
  },
  {
   "cell_type": "code",
   "execution_count": null,
   "metadata": {},
   "outputs": [],
   "source": [
    "ax1.set_title('True')\n",
    "ax2.set_title('Predicted')"
   ]
  },
  {
   "cell_type": "code",
   "execution_count": null,
   "metadata": {},
   "outputs": [],
   "source": [
    "x_true_data, v_true_data = [], []\n",
    "x_pred_data, v_pred_data = [], []"
   ]
  },
  {
   "cell_type": "code",
   "execution_count": null,
   "metadata": {},
   "outputs": [],
   "source": [
    "def init():\n",
    "    line_true.set_data([], [])\n",
    "    line_pred.set_data([], [])\n",
    "    point_true.set_data([], [])\n",
    "    point_pred.set_data([], [])\n",
    "    return line_true, line_pred, point_true, point_pred,"
   ]
  },
  {
   "cell_type": "code",
   "execution_count": null,
   "metadata": {},
   "outputs": [],
   "source": [
    "def animate(i):\n",
    "    x_true = true_states[i, 0]\n",
    "    v_true = true_states[i, 1]\n",
    "    x_pred = predictions[i, 0]\n",
    "    v_pred = predictions[i, 1]\n",
    "\n",
    "    x_true_data.append(x_true)\n",
    "    v_true_data.append(v_true)\n",
    "    x_pred_data.append(x_pred)\n",
    "    v_pred_data.append(v_pred)\n",
    "\n",
    "    line_true.set_data(x_true_data, v_true_data)\n",
    "    line_pred.set_data(x_pred_data, v_pred_data)\n",
    "    point_true.set_data(x_true, v_true)\n",
    "    point_pred.set_data(x_pred, v_pred)\n",
    "    return line_true, line_pred, point_true, point_pred,"
   ]
  },
  {
   "cell_type": "code",
   "execution_count": null,
   "metadata": {},
   "outputs": [],
   "source": [
    "ani = animation.FuncAnimation(fig, animate, init_func=init, frames=100, interval=100, blit=True)"
   ]
  },
  {
   "cell_type": "code",
   "execution_count": null,
   "metadata": {},
   "outputs": [],
   "source": [
    "plt.show()"
   ]
  }
 ],
 "metadata": {
  "language_info": {
   "name": "python"
  }
 },
 "nbformat": 4,
 "nbformat_minor": 2
}
