{
 "cells": [
  {
   "cell_type": "code",
   "execution_count": null,
   "metadata": {},
   "outputs": [],
   "source": [
    "import torch\n",
    "import torch.nn as nn\n",
    "import torch.optim as optim\n",
    "from torch.utils.data import DataLoader, TensorDataset\n",
    "import numpy as np\n",
    "import matplotlib.pyplot as plt\n",
    "from matplotlib.animation import FuncAnimation\n",
    "from scipy.integrate import solve_ivp\n",
    "import pickle\n",
    "from sklearn.preprocessing import StandardScaler\n",
    "from sklearn.model_selection import train_test_split"
   ]
  },
  {
   "cell_type": "code",
   "execution_count": null,
   "metadata": {},
   "outputs": [],
   "source": [
    "# Define double pendulum dynamics\n",
    "def double_pendulum(t, y, l1, l2, m1, m2, g):\n",
    "    theta1, z1, theta2, z2 = y\n",
    "    delta = theta2 - theta1\n",
    "    denom1 = (m1 + m2) * l1 - m2 * l1 * np.cos(delta) ** 2\n",
    "    denom2 = (l2 / l1) * denom1\n",
    "\n",
    "    dydt = np.zeros_like(y)\n",
    "    dydt[0] = z1\n",
    "    dydt[1] = (\n",
    "        (m2 * l1 * z1 ** 2 * np.sin(delta) * np.cos(delta)\n",
    "         + m2 * g * np.sin(theta2) * np.cos(delta)\n",
    "         + m2 * l2 * z2 ** 2 * np.sin(delta)\n",
    "         - (m1 + m2) * g * np.sin(theta1))\n",
    "        / denom1\n",
    "    )\n",
    "    dydt[2] = z2\n",
    "    dydt[3] = (\n",
    "        (-m2 * l2 * z2 ** 2 * np.sin(delta) * np.cos(delta)\n",
    "         + (m1 + m2) * g * np.sin(theta1) * np.cos(delta)\n",
    "         - (m1 + m2) * l1 * z1 ** 2 * np.sin(delta)\n",
    "         - (m1 + m2) * g * np.sin(theta2))\n",
    "        / denom2\n",
    "    )\n",
    "    return dydt"
   ]
  },
  {
   "cell_type": "code",
   "execution_count": null,
   "metadata": {},
   "outputs": [],
   "source": [
    "# Generate data\n",
    "n_pendulums = 5000\n",
    "train_data, val_data, test_data = [], [], []"
   ]
  },
  {
   "cell_type": "code",
   "execution_count": null,
   "metadata": {},
   "outputs": [],
   "source": [
    "for _ in range(n_pendulums):\n",
    "    l1, l2 = np.random.uniform(0.5, 2.0, 2)\n",
    "    m1, m2 = np.random.uniform(0.5, 2.0, 2)\n",
    "    g = 9.81\n",
    "    y0 = np.random.uniform(-np.pi, np.pi, 4)\n",
    "    t_span = (0, 10)\n",
    "    t_eval = np.linspace(t_span[0], t_span[1], 200)\n",
    "    sol = solve_ivp(double_pendulum, t_span, y0, t_eval=t_eval, args=(l1, l2, m1, m2, g))\n",
    "    theta1, theta1_dot, theta2, theta2_dot = sol.y\n",
    "    X = np.vstack([theta1, theta2, theta1_dot, theta2_dot]).T\n",
    "    train_data.append((X, l1, l2, m1, m2, g))"
   ]
  },
  {
   "cell_type": "code",
   "execution_count": null,
   "metadata": {},
   "outputs": [],
   "source": [
    "# Visualize examples from the dataset\n",
    "def visualize_example(example):\n",
    "    X, l1, l2, _, _, _ = example\n",
    "    theta1, theta2 = X[:, 0], X[:, 1]\n",
    "\n",
    "    # Compute positions\n",
    "    x1 = l1 * np.sin(theta1)\n",
    "    y1 = -l1 * np.cos(theta1)\n",
    "    x2 = x1 + l2 * np.sin(theta2)\n",
    "    y2 = y1 - l2 * np.cos(theta2)\n",
    "\n",
    "    fig, ax = plt.subplots(figsize=(6, 6))\n",
    "    ax.set_xlim(-2.5, 2.5)\n",
    "    ax.set_ylim(-2.5, 2.5)\n",
    "    ax.set_aspect('equal')\n",
    "    line, = ax.plot([], [], 'o-', lw=2)\n",
    "\n",
    "    def update(frame):\n",
    "        line.set_data([0, x1[frame], x2[frame]], [0, y1[frame], y2[frame]])\n",
    "        return line,\n",
    "\n",
    "    ani = FuncAnimation(fig, update, frames=len(theta1), blit=True, interval=50)\n",
    "    plt.show()"
   ]
  },
  {
   "cell_type": "code",
   "execution_count": null,
   "metadata": {},
   "outputs": [],
   "source": [
    "# Visualize first 3 examples\n",
    "for i in range(3):\n",
    "    visualize_example(train_data[i])"
   ]
  },
  {
   "cell_type": "code",
   "execution_count": null,
   "metadata": {},
   "outputs": [],
   "source": [
    "# Normalize data\n",
    "scaler = StandardScaler()\n",
    "X_train = np.vstack([example[0] for example in train_data])\n",
    "scaler.fit(X_train)\n",
    "train_data = [(scaler.transform(example[0]), *example[1:]) for example in train_data]"
   ]
  },
  {
   "cell_type": "code",
   "execution_count": null,
   "metadata": {},
   "outputs": [],
   "source": [
    "# Save dataset\n",
    "with open('double_pendulum_dataset.pkl', 'wb') as f:\n",
    "    pickle.dump({'train': train_data}, f)"
   ]
  },
  {
   "cell_type": "code",
   "execution_count": null,
   "metadata": {},
   "outputs": [],
   "source": [
    "# Define Transformer-based model\n",
    "class PhysicsInformedTransformer(nn.Module):\n",
    "    def __init__(self, input_dim, output_dim, d_model=128, nhead=4, num_layers=3):\n",
    "        super(PhysicsInformedTransformer, self).__init__()\n",
    "        self.encoder = nn.TransformerEncoder(\n",
    "            nn.TransformerEncoderLayer(d_model=d_model, nhead=nhead), num_layers=num_layers\n",
    "        )\n",
    "        self.decoder = nn.Linear(d_model, output_dim)\n",
    "        self.input_projection = nn.Linear(input_dim, d_model)\n",
    "        self.activation = nn.SiLU()\n",
    "\n",
    "    def forward(self, x):\n",
    "        x = self.input_projection(x)\n",
    "        x = self.activation(x)\n",
    "        x = x.permute(1, 0, 2)\n",
    "        x = self.encoder(x)\n",
    "        x = x.permute(1, 0, 2)\n",
    "        x = self.decoder(x)\n",
    "        return x"
   ]
  },
  {
   "cell_type": "code",
   "execution_count": null,
   "metadata": {},
   "outputs": [],
   "source": [
    "# Physics-informed loss\n",
    "def physics_loss(y_pred, y_true, params_batch):\n",
    "    l1, l2, m1, m2, g = params_batch.T\n",
    "    theta1, theta2, theta1_dot, theta2_dot = torch.split(y_true, 1, dim=2)\n",
    "    theta1_ddot, theta2_ddot = torch.split(y_pred, 1, dim=2)\n",
    "\n",
    "    delta = theta2 - theta1\n",
    "    physics_term1 = (\n",
    "        (m2 * l1 * theta1_dot ** 2 * torch.sin(delta) * torch.cos(delta)\n",
    "         + m2 * g * torch.sin(theta2) * torch.cos(delta)\n",
    "         + m2 * l2 * theta2_dot ** 2 * torch.sin(delta)\n",
    "         - (m1 + m2) * g * torch.sin(theta1))\n",
    "        / ((m1 + m2) * l1 - m2 * l1 * torch.cos(delta) ** 2)\n",
    "    )\n",
    "    physics_term2 = (\n",
    "        (-m2 * l2 * theta2_dot ** 2 * torch.sin(delta) * torch.cos(delta)\n",
    "         + (m1 + m2) * g * torch.sin(theta1) * torch.cos(delta)\n",
    "         - (m1 + m2) * l1 * theta1_dot ** 2 * torch.sin(delta)\n",
    "         - (m1 + m2) * g * torch.sin(theta2))\n",
    "        / ((l2 / l1) * ((m1 + m2) * l1 - m2 * l1 * torch.cos(delta) ** 2))\n",
    "    )\n",
    "\n",
    "    loss = torch.mean((theta1_ddot - physics_term1) ** 2 + (theta2_ddot - physics_term2) ** 2)\n",
    "    return loss"
   ]
  },
  {
   "cell_type": "code",
   "execution_count": null,
   "metadata": {},
   "outputs": [],
   "source": [
    "# Load dataset\n",
    "with open('double_pendulum_dataset.pkl', 'rb') as f:\n",
    "    dataset = pickle.load(f)\n",
    "train_data = dataset['train']\n",
    "\n",
    "train_loader = DataLoader(\n",
    "    TensorDataset(\n",
    "        torch.tensor(np.vstack([example[0] for example in train_data]), dtype=torch.float32),\n",
    "        torch.tensor(np.vstack([example[0][:, 2:] for example in train_data]), dtype=torch.float32),\n",
    "        torch.tensor(np.array([example[1:] for example in train_data]), dtype=torch.float32)\n",
    "    ),\n",
    "    batch_size=64, shuffle=True\n",
    ")"
   ]
  },
  {
   "cell_type": "code",
   "execution_count": null,
   "metadata": {},
   "outputs": [],
   "source": [
    "# Model training\n",
    "model = PhysicsInformedTransformer(input_dim=4, output_dim=2)\n",
    "optimizer = optim.AdamW(model.parameters(), lr=1e-4)\n",
    "criterion = nn.MSELoss()\n",
    "\n",
    "num_epochs = 100\n",
    "patience = 10\n",
    "best_val_loss = float('inf')\n",
    "patience_counter = 0"
   ]
  },
  {
   "cell_type": "code",
   "execution_count": null,
   "metadata": {},
   "outputs": [],
   "source": [
    "for epoch in range(num_epochs):\n",
    "    model.train()\n",
    "    train_loss = 0.0\n",
    "    for x_batch, y_batch, params_batch in train_loader:\n",
    "        optimizer.zero_grad()\n",
    "        y_pred = model(x_batch)\n",
    "        loss = criterion(y_pred, y_batch) + 0.1 * physics_loss(y_pred, y_batch, params_batch)\n",
    "        loss.backward()\n",
    "        optimizer.step()\n",
    "        train_loss += loss.item()\n",
    "\n",
    "    train_loss /= len(train_loader)\n",
    "    print(f\"Epoch {epoch + 1}, Train Loss: {train_loss:.4f}\")"
   ]
  },
  {
   "cell_type": "code",
   "execution_count": null,
   "metadata": {},
   "outputs": [],
   "source": [
    "# Save the model\n",
    "torch.save(model.state_dict(), 'physics_informed_transformer.pth')"
   ]
  },
  {
   "cell_type": "code",
   "execution_count": null,
   "metadata": {},
   "outputs": [],
   "source": [
    "# Visualization\n",
    "def visualize_prediction(example, model, scaler):\n",
    "    X, l1, l2, _, _, _ = example\n",
    "    theta1, theta2 = X[:, 0], X[:, 1]\n",
    "\n",
    "    X_tensor = torch.tensor(scaler.transform(X), dtype=torch.float32)\n",
    "    y_pred = model(X_tensor.unsqueeze(0)).detach().numpy()[0]\n",
    "\n",
    "    theta1_pred, theta2_pred = y_pred[:, 0], y_pred[:, 1]\n",
    "\n",
    "    x1 = l1 * np.sin(theta1)\n",
    "    y1 = -l1 * np.cos(theta1)\n",
    "    x2 = x1 + l2 * np.sin(theta2)\n",
    "    y2 = y1 - l2 * np.cos(theta2)\n",
    "\n",
    "    x1_pred = l1 * np.sin(theta1_pred)\n",
    "    y1_pred = -l1 * np.cos(theta1_pred)\n",
    "    x2_pred = x1_pred + l2 * np.sin(theta2_pred)\n",
    "    y2_pred = y1_pred - l2 * np.cos(theta2_pred)\n",
    "\n",
    "    fig, ax = plt.subplots(figsize=(6, 6))\n",
    "    ax.set_xlim(-2.5, 2.5)\n",
    "    ax.set_ylim(-2.5, 2.5)\n",
    "    ax.set_aspect('equal')\n",
    "    line_true, = ax.plot([], [], 'o-', lw=2, label='Ground Truth')\n",
    "    line_pred, = ax.plot([], [], 'o--', lw=2, label='Prediction')\n",
    "    ax.legend()\n",
    "\n",
    "    def update(frame):\n",
    "        line_true.set_data([0, x1[frame], x2[frame]], [0, y1[frame], y2[frame]])\n",
    "        line_pred.set_data([0, x1_pred[frame], x2_pred[frame]], [0, y1_pred[frame], y2_pred[frame]])\n",
    "        return line_true, line_pred\n",
    "\n",
    "    ani = FuncAnimation(fig, update, frames=len(theta1), blit=True, interval=50)\n",
    "    plt.show()\n"
   ]
  },
  {
   "cell_type": "code",
   "execution_count": null,
   "metadata": {},
   "outputs": [],
   "source": [
    "# Test visualization\n",
    "visualize_prediction(train_data[0], model, scaler)"
   ]
  }
 ],
 "metadata": {
  "language_info": {
   "name": "python"
  }
 },
 "nbformat": 4,
 "nbformat_minor": 2
}
