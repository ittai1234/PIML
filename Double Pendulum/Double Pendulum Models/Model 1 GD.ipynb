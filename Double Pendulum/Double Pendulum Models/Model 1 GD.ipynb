{
 "cells": [
  {
   "cell_type": "code",
   "execution_count": 1,
   "metadata": {},
   "outputs": [
    {
     "name": "stderr",
     "output_type": "stream",
     "text": [
      "C:\\Users\\User\\AppData\\Local\\Packages\\PythonSoftwareFoundation.Python.3.11_qbz5n2kfra8p0\\LocalCache\\local-packages\\Python311\\site-packages\\tqdm\\auto.py:21: TqdmWarning: IProgress not found. Please update jupyter and ipywidgets. See https://ipywidgets.readthedocs.io/en/stable/user_install.html\n",
      "  from .autonotebook import tqdm as notebook_tqdm\n"
     ]
    }
   ],
   "source": [
    "import numpy as np\n",
    "import torch\n",
    "import torch.nn as nn\n",
    "import torch.optim as optim\n",
    "from torch.utils.data import DataLoader, TensorDataset\n",
    "from scipy.integrate import solve_ivp\n",
    "import pickle\n",
    "from sklearn.preprocessing import StandardScaler\n",
    "from sklearn.model_selection import train_test_split\n",
    "import optuna\n",
    "import pysindy as ps\n",
    "import matplotlib.pyplot as plt\n",
    "from matplotlib.animation import FuncAnimation\n",
    "from optuna.trial import TrialState"
   ]
  },
  {
   "cell_type": "code",
   "execution_count": 2,
   "metadata": {},
   "outputs": [],
   "source": [
    "# Define double pendulum dynamics\n",
    "def double_pendulum(t, y, l1, l2, m1, m2, g):\n",
    "    theta1, z1, theta2, z2 = y\n",
    "    delta = theta2 - theta1\n",
    "    denom1 = (m1 + m2) * l1 - m2 * l1 * np.cos(delta) ** 2\n",
    "    denom2 = (l2 / l1) * denom1\n",
    "\n",
    "    dydt = np.zeros_like(y)\n",
    "    dydt[0] = z1\n",
    "    dydt[1] = (\n",
    "        (m2 * l1 * z1 ** 2 * np.sin(delta) * np.cos(delta)\n",
    "         + m2 * g * np.sin(theta2) * np.cos(delta)\n",
    "         + m2 * l2 * z2 ** 2 * np.sin(delta)\n",
    "         - (m1 + m2) * g * np.sin(theta1))\n",
    "        / denom1\n",
    "    )\n",
    "    dydt[2] = z2\n",
    "    dydt[3] = (\n",
    "        (-m2 * l2 * z2 ** 2 * np.sin(delta) * np.cos(delta)\n",
    "         + (m1 + m2) * g * np.sin(theta1) * np.cos(delta)\n",
    "         - (m1 + m2) * l1 * z1 ** 2 * np.sin(delta)\n",
    "         - (m1 + m2) * g * np.sin(theta2))\n",
    "        / denom2\n",
    "    )\n",
    "    return dydt"
   ]
  },
  {
   "cell_type": "code",
   "execution_count": 3,
   "metadata": {},
   "outputs": [],
   "source": [
    "n_pendulums = 2000  # data set sizae\n",
    "data = []"
   ]
  },
  {
   "cell_type": "code",
   "execution_count": 4,
   "metadata": {},
   "outputs": [],
   "source": [
    "# Generate dataset with second derivatives\n",
    "for _ in range(n_pendulums):\n",
    "    l1, l2 = np.random.uniform(0.5, 2.0, 2)\n",
    "    m1, m2 = np.random.uniform(0.5, 2.0, 2)\n",
    "    g = 9.81\n",
    "    y0 = np.random.uniform(-np.pi, np.pi, 4)\n",
    "    t_span = (0, 10)\n",
    "    t_eval = np.linspace(t_span[0], t_span[1], 200)  # Finer temporal resolution\n",
    "    sol = solve_ivp(double_pendulum, t_span, y0, t_eval=t_eval, args=(l1, l2, m1, m2, g))\n",
    "    \n",
    "    theta1, theta1_dot, theta2, theta2_dot = sol.y\n",
    "    theta1_ddot = np.gradient(theta1_dot, t_eval)\n",
    "    theta2_ddot = np.gradient(theta2_dot, t_eval)\n",
    "    \n",
    "    X = np.vstack([theta1, theta2, theta1_dot, theta2_dot]).T  # Inputs: angles and angular velocities\n",
    "    y = np.vstack([theta1_ddot, theta2_ddot]).T               # Targets: angular accelerations\n",
    "    data.append((X, y, l1, l2, m1, m2, g))\n",
    "\n"
   ]
  },
  {
   "cell_type": "code",
   "execution_count": 5,
   "metadata": {},
   "outputs": [
    {
     "name": "stderr",
     "output_type": "stream",
     "text": [
      "MovieWriter imagemagick unavailable; using Pillow instead.\n",
      "MovieWriter imagemagick unavailable; using Pillow instead.\n"
     ]
    },
    {
     "data": {
      "image/png": "[encoded data removed]",
      "text/plain": [
       "<Figure size 600x600 with 1 Axes>"
      ]
     },
     "metadata": {},
     "output_type": "display_data"
    },
    {
     "data": {
      "image/png": "[encoded data removed]",
      "text/plain": [
       "<Figure size 600x600 with 1 Axes>"
      ]
     },
     "metadata": {},
     "output_type": "display_data"
    }
   ],
   "source": [
    "def visualize_double_pendulum(example, save_path=None):\n",
    "    X, _, l1, l2, _, _, _ = example  # Skip 'y'\n",
    "    theta1, theta2 = X[:, 0], X[:, 1]\n",
    "\n",
    "    # Compute positions\n",
    "    x1 = l1 * np.sin(theta1)\n",
    "    y1 = -l1 * np.cos(theta1)\n",
    "    x2 = x1 + l2 * np.sin(theta2)\n",
    "    y2 = y1 - l2 * np.cos(theta2)\n",
    "\n",
    "    fig, ax = plt.subplots(figsize=(6, 6))\n",
    "    ax.set_xlim(-2.5, 2.5)\n",
    "    ax.set_ylim(-2.5, 2.5)\n",
    "    ax.set_aspect('equal')\n",
    "    line, = ax.plot([], [], 'o-', lw=2)\n",
    "\n",
    "    def update(frame):\n",
    "        line.set_data([0, x1[frame], x2[frame]], [0, y1[frame], y2[frame]])\n",
    "        return line,\n",
    "\n",
    "    ani = FuncAnimation(fig, update, frames=len(theta1), blit=True, interval=50)\n",
    "\n",
    "    if save_path:\n",
    "        ani.save(save_path, fps=20, writer='imagemagick')\n",
    "    else:\n",
    "        plt.show()\n",
    "\n",
    "# Visualize two examples\n",
    "visualize_double_pendulum(data[0], save_path='double_pendulum1.gif')\n",
    "visualize_double_pendulum(data[1], save_path='double_pendulum2.gif')"
   ]
  },
  {
   "cell_type": "code",
   "execution_count": 77,
   "metadata": {},
   "outputs": [],
   "source": [
    "# Split dataset\n",
    "train_data, test_data = train_test_split(data, test_size=0.2, random_state=42)\n",
    "val_data, test_data = train_test_split(test_data, test_size=0.5, random_state=42)\n",
    "\n",
    "# Normalize data\n",
    "scaler = StandardScaler()\n",
    "X_train = np.vstack([example[0] for example in train_data])\n",
    "scaler.fit(X_train)\n",
    "\n",
    "train_data = [(scaler.transform(example[0]), *example[1:]) for example in train_data]\n",
    "val_data = [(scaler.transform(example[0]), *example[1:]) for example in val_data]\n",
    "test_data = [(scaler.transform(example[0]), *example[1:]) for example in test_data]"
   ]
  },
  {
   "cell_type": "code",
   "execution_count": 78,
   "metadata": {},
   "outputs": [],
   "source": [
    "# Save data\n",
    "with open('extended_double_pendulum_dataset.pkl', 'wb') as f:\n",
    "    pickle.dump({'train': train_data, 'val': val_data, 'test': test_data}, f)"
   ]
  },
  {
   "cell_type": "code",
   "execution_count": 94,
   "metadata": {},
   "outputs": [],
   "source": [
    "class PINN(nn.Module):\n",
    "    def __init__(self, layers, dropout_rate=0.2):\n",
    "        super(PINN, self).__init__()\n",
    "        self.input_layer = nn.Linear(layers[0], layers[1])\n",
    "        self.hidden_layers = nn.ModuleList()\n",
    "        for i in range(1, len(layers) - 2):\n",
    "            self.hidden_layers.append(nn.Sequential(\n",
    "                nn.Linear(layers[i], layers[i + 1]),\n",
    "                nn.BatchNorm1d(layers[i + 1]),\n",
    "                nn.SiLU(),\n",
    "                nn.Dropout(dropout_rate)\n",
    "            ))\n",
    "        self.output_layer = nn.Linear(layers[-2], layers[-1])\n",
    "\n",
    "    def forward(self, x):\n",
    "        x = self.input_layer(x)\n",
    "        for layer in self.hidden_layers:\n",
    "            x = layer(x)\n",
    "        return self.output_layer(x)"
   ]
  },
  {
   "cell_type": "code",
   "execution_count": 95,
   "metadata": {},
   "outputs": [],
   "source": [
    "# Define custom loss functions\n",
    "def log_cosh_loss(y_pred, y_true):\n",
    "    diff = y_pred - y_true\n",
    "    return torch.mean(torch.log(torch.cosh(diff)))\n"
   ]
  },
  {
   "cell_type": "code",
   "execution_count": 96,
   "metadata": {},
   "outputs": [],
   "source": [
    "def physics_loss(y_pred, y_true, params_batch, X_batch):\n",
    "    l1, l2, m1, m2, g = params_batch\n",
    "    theta1, theta2, theta1_dot, theta2_dot = torch.split(X_batch, 1, dim=1)\n",
    "    theta1_ddot, theta2_ddot = torch.split(y_pred, 1, dim=1)\n",
    "\n",
    "    delta = theta2 - theta1\n",
    "    physics_term1 = (\n",
    "        (m2 * l1 * theta1_dot**2 * torch.sin(delta) * torch.cos(delta)\n",
    "         + m2 * g * torch.sin(theta2) * torch.cos(delta)\n",
    "         + m2 * l2 * theta2_dot**2 * torch.sin(delta)\n",
    "         - (m1 + m2) * g * torch.sin(theta1))\n",
    "        / ((m1 + m2) * l1 - m2 * l1 * torch.cos(delta)**2)\n",
    "    )\n",
    "    physics_term2 = (\n",
    "        (-m2 * l2 * theta2_dot**2 * torch.sin(delta) * torch.cos(delta)\n",
    "         + (m1 + m2) * g * torch.sin(theta1) * torch.cos(delta)\n",
    "         - (m1 + m2) * l1 * theta1_dot**2 * torch.sin(delta)\n",
    "         - (m1 + m2) * g * torch.sin(theta2))\n",
    "        / ((l2 / l1) * ((m1 + m2) * l1 - m2 * l1 * torch.cos(delta)**2))\n",
    "    )\n",
    "\n",
    "    loss = torch.mean((theta1_ddot - physics_term1)**2 + (theta2_ddot - physics_term2)**2)\n",
    "    return loss"
   ]
  },
  {
   "cell_type": "code",
   "execution_count": 97,
   "metadata": {},
   "outputs": [],
   "source": [
    "# Load data\n",
    "with open('extended_double_pendulum_dataset.pkl', 'rb') as f:\n",
    "    dataset = pickle.load(f)\n",
    "\n",
    "train_data = dataset['train']\n",
    "val_data = dataset['val']\n",
    "test_data = dataset['test']"
   ]
  },
  {
   "cell_type": "code",
   "execution_count": 99,
   "metadata": {},
   "outputs": [],
   "source": [
    "# Prepare data\n",
    "X_train = torch.tensor(np.vstack([example[0] for example in train_data]), dtype=torch.float32)\n",
    "y_train = torch.tensor(np.vstack([example[1] for example in train_data]), dtype=torch.float32)\n",
    "params_train = torch.tensor([example[2:] for example in train_data], dtype=torch.float32)\n",
    "\n",
    "X_val = torch.tensor(np.vstack([example[0] for example in val_data]), dtype=torch.float32)\n",
    "y_val = torch.tensor(np.vstack([example[1] for example in val_data]), dtype=torch.float32)\n",
    "params_val = torch.tensor([example[2:] for example in val_data], dtype=torch.float32)"
   ]
  },
  {
   "cell_type": "code",
   "execution_count": 100,
   "metadata": {},
   "outputs": [],
   "source": [
    "# Train PINN\n",
    "model = PINN([4, 256, 256, 128, 64, 2])  # Increased depth and residual connections\n",
    "optimizer = optim.AdamW(model.parameters(), lr=1e-3)\n",
    "scheduler = optim.lr_scheduler.StepLR(optimizer, step_size=20, gamma=0.5)\n",
    "\n",
    "criterion = nn.MSELoss()\n",
    "epochs = 100\n",
    "early_stopping_patience = 10\n",
    "best_val_loss = float('inf')\n",
    "best_model = None\n",
    "patience_counter = 0"
   ]
  },
  {
   "cell_type": "code",
   "execution_count": 102,
   "metadata": {},
   "outputs": [],
   "source": [
    "# Define accuracy metric for regression\n",
    "def compute_accuracy(y_pred, y_true, threshold=0.1):\n",
    "    # Calculate absolute error\n",
    "    error = torch.abs(y_pred - y_true)\n",
    "    # Count predictions within the threshold\n",
    "    within_threshold = (error < threshold).all(dim=1).float()\n",
    "    # Calculate percentage\n",
    "    accuracy = within_threshold.mean().item() * 100\n",
    "    return accuracy"
   ]
  },
  {
   "cell_type": "code",
   "execution_count": 103,
   "metadata": {},
   "outputs": [
    {
     "name": "stdout",
     "output_type": "stream",
     "text": [
      "Epoch 1, Loss: 330.0924987792969, Val Loss: 294.4075622558594, Train Accuracy: 0.00%, Val Accuracy: 0.00%\n",
      "Epoch 2, Loss: 329.1801452636719, Val Loss: 294.2883605957031, Train Accuracy: 0.00%, Val Accuracy: 0.00%\n",
      "Epoch 3, Loss: 328.6101989746094, Val Loss: 294.1498718261719, Train Accuracy: 0.01%, Val Accuracy: 0.01%\n",
      "Epoch 4, Loss: 328.1043395996094, Val Loss: 293.9916076660156, Train Accuracy: 0.00%, Val Accuracy: 0.01%\n"
     ]
    },
    {
     "ename": "KeyboardInterrupt",
     "evalue": "",
     "output_type": "error",
     "traceback": [
      "\u001b[1;31m---------------------------------------------------------------------------\u001b[0m",
      "\u001b[1;31mKeyboardInterrupt\u001b[0m                         Traceback (most recent call last)",
      "Cell \u001b[1;32mIn[103], line 9\u001b[0m\n\u001b[0;32m      7\u001b[0m y_pred \u001b[38;5;241m=\u001b[39m model(X_train)\n\u001b[0;32m      8\u001b[0m loss \u001b[38;5;241m=\u001b[39m criterion(y_pred, y_train) \u001b[38;5;241m+\u001b[39m \u001b[38;5;241m0.1\u001b[39m \u001b[38;5;241m*\u001b[39m physics_loss(y_pred, y_train, params_train\u001b[38;5;241m.\u001b[39mT, X_train)\n\u001b[1;32m----> 9\u001b[0m \u001b[43mloss\u001b[49m\u001b[38;5;241;43m.\u001b[39;49m\u001b[43mbackward\u001b[49m\u001b[43m(\u001b[49m\u001b[43m)\u001b[49m\n\u001b[0;32m     10\u001b[0m optimizer\u001b[38;5;241m.\u001b[39mstep()\n\u001b[0;32m     12\u001b[0m \u001b[38;5;66;03m# Validation\u001b[39;00m\n",
      "File \u001b[1;32m~\\AppData\\Local\\Packages\\PythonSoftwareFoundation.Python.3.11_qbz5n2kfra8p0\\LocalCache\\local-packages\\Python311\\site-packages\\torch\\_tensor.py:581\u001b[0m, in \u001b[0;36mTensor.backward\u001b[1;34m(self, gradient, retain_graph, create_graph, inputs)\u001b[0m\n\u001b[0;32m    571\u001b[0m \u001b[38;5;28;01mif\u001b[39;00m has_torch_function_unary(\u001b[38;5;28mself\u001b[39m):\n\u001b[0;32m    572\u001b[0m     \u001b[38;5;28;01mreturn\u001b[39;00m handle_torch_function(\n\u001b[0;32m    573\u001b[0m         Tensor\u001b[38;5;241m.\u001b[39mbackward,\n\u001b[0;32m    574\u001b[0m         (\u001b[38;5;28mself\u001b[39m,),\n\u001b[1;32m   (...)\u001b[0m\n\u001b[0;32m    579\u001b[0m         inputs\u001b[38;5;241m=\u001b[39minputs,\n\u001b[0;32m    580\u001b[0m     )\n\u001b[1;32m--> 581\u001b[0m \u001b[43mtorch\u001b[49m\u001b[38;5;241;43m.\u001b[39;49m\u001b[43mautograd\u001b[49m\u001b[38;5;241;43m.\u001b[39;49m\u001b[43mbackward\u001b[49m\u001b[43m(\u001b[49m\n\u001b[0;32m    582\u001b[0m \u001b[43m    \u001b[49m\u001b[38;5;28;43mself\u001b[39;49m\u001b[43m,\u001b[49m\u001b[43m \u001b[49m\u001b[43mgradient\u001b[49m\u001b[43m,\u001b[49m\u001b[43m \u001b[49m\u001b[43mretain_graph\u001b[49m\u001b[43m,\u001b[49m\u001b[43m \u001b[49m\u001b[43mcreate_graph\u001b[49m\u001b[43m,\u001b[49m\u001b[43m \u001b[49m\u001b[43minputs\u001b[49m\u001b[38;5;241;43m=\u001b[39;49m\u001b[43minputs\u001b[49m\n\u001b[0;32m    583\u001b[0m \u001b[43m\u001b[49m\u001b[43m)\u001b[49m\n",
      "File \u001b[1;32m~\\AppData\\Local\\Packages\\PythonSoftwareFoundation.Python.3.11_qbz5n2kfra8p0\\LocalCache\\local-packages\\Python311\\site-packages\\torch\\autograd\\__init__.py:347\u001b[0m, in \u001b[0;36mbackward\u001b[1;34m(tensors, grad_tensors, retain_graph, create_graph, grad_variables, inputs)\u001b[0m\n\u001b[0;32m    342\u001b[0m     retain_graph \u001b[38;5;241m=\u001b[39m create_graph\n\u001b[0;32m    344\u001b[0m \u001b[38;5;66;03m# The reason we repeat the same comment below is that\u001b[39;00m\n\u001b[0;32m    345\u001b[0m \u001b[38;5;66;03m# some Python versions print out the first line of a multi-line function\u001b[39;00m\n\u001b[0;32m    346\u001b[0m \u001b[38;5;66;03m# calls in the traceback and some print out the last line\u001b[39;00m\n\u001b[1;32m--> 347\u001b[0m \u001b[43m_engine_run_backward\u001b[49m\u001b[43m(\u001b[49m\n\u001b[0;32m    348\u001b[0m \u001b[43m    \u001b[49m\u001b[43mtensors\u001b[49m\u001b[43m,\u001b[49m\n\u001b[0;32m    349\u001b[0m \u001b[43m    \u001b[49m\u001b[43mgrad_tensors_\u001b[49m\u001b[43m,\u001b[49m\n\u001b[0;32m    350\u001b[0m \u001b[43m    \u001b[49m\u001b[43mretain_graph\u001b[49m\u001b[43m,\u001b[49m\n\u001b[0;32m    351\u001b[0m \u001b[43m    \u001b[49m\u001b[43mcreate_graph\u001b[49m\u001b[43m,\u001b[49m\n\u001b[0;32m    352\u001b[0m \u001b[43m    \u001b[49m\u001b[43minputs\u001b[49m\u001b[43m,\u001b[49m\n\u001b[0;32m    353\u001b[0m \u001b[43m    \u001b[49m\u001b[43mallow_unreachable\u001b[49m\u001b[38;5;241;43m=\u001b[39;49m\u001b[38;5;28;43;01mTrue\u001b[39;49;00m\u001b[43m,\u001b[49m\n\u001b[0;32m    354\u001b[0m \u001b[43m    \u001b[49m\u001b[43maccumulate_grad\u001b[49m\u001b[38;5;241;43m=\u001b[39;49m\u001b[38;5;28;43;01mTrue\u001b[39;49;00m\u001b[43m,\u001b[49m\n\u001b[0;32m    355\u001b[0m \u001b[43m\u001b[49m\u001b[43m)\u001b[49m\n",
      "File \u001b[1;32m~\\AppData\\Local\\Packages\\PythonSoftwareFoundation.Python.3.11_qbz5n2kfra8p0\\LocalCache\\local-packages\\Python311\\site-packages\\torch\\autograd\\graph.py:825\u001b[0m, in \u001b[0;36m_engine_run_backward\u001b[1;34m(t_outputs, *args, **kwargs)\u001b[0m\n\u001b[0;32m    823\u001b[0m     unregister_hooks \u001b[38;5;241m=\u001b[39m _register_logging_hooks_on_whole_graph(t_outputs)\n\u001b[0;32m    824\u001b[0m \u001b[38;5;28;01mtry\u001b[39;00m:\n\u001b[1;32m--> 825\u001b[0m     \u001b[38;5;28;01mreturn\u001b[39;00m \u001b[43mVariable\u001b[49m\u001b[38;5;241;43m.\u001b[39;49m\u001b[43m_execution_engine\u001b[49m\u001b[38;5;241;43m.\u001b[39;49m\u001b[43mrun_backward\u001b[49m\u001b[43m(\u001b[49m\u001b[43m  \u001b[49m\u001b[38;5;66;43;03m# Calls into the C++ engine to run the backward pass\u001b[39;49;00m\n\u001b[0;32m    826\u001b[0m \u001b[43m        \u001b[49m\u001b[43mt_outputs\u001b[49m\u001b[43m,\u001b[49m\u001b[43m \u001b[49m\u001b[38;5;241;43m*\u001b[39;49m\u001b[43margs\u001b[49m\u001b[43m,\u001b[49m\u001b[43m \u001b[49m\u001b[38;5;241;43m*\u001b[39;49m\u001b[38;5;241;43m*\u001b[39;49m\u001b[43mkwargs\u001b[49m\n\u001b[0;32m    827\u001b[0m \u001b[43m    \u001b[49m\u001b[43m)\u001b[49m  \u001b[38;5;66;03m# Calls into the C++ engine to run the backward pass\u001b[39;00m\n\u001b[0;32m    828\u001b[0m \u001b[38;5;28;01mfinally\u001b[39;00m:\n\u001b[0;32m    829\u001b[0m     \u001b[38;5;28;01mif\u001b[39;00m attach_logging_hooks:\n",
      "\u001b[1;31mKeyboardInterrupt\u001b[0m: "
     ]
    }
   ],
   "source": [
    "# Start training\n",
    "for epoch in range(epochs):\n",
    "    model.train()\n",
    "    optimizer.zero_grad()\n",
    "\n",
    "    # Forward pass\n",
    "    y_pred = model(X_train)\n",
    "    loss = criterion(y_pred, y_train) + 0.1 * physics_loss(y_pred, y_train, params_train.T, X_train)\n",
    "    loss.backward()\n",
    "    optimizer.step()\n",
    "\n",
    "    # Validation\n",
    "    model.eval()\n",
    "    with torch.no_grad():\n",
    "        y_val_pred = model(X_val)\n",
    "        val_loss = criterion(y_val_pred, y_val)\n",
    "        val_accuracy = compute_accuracy(y_val_pred, y_val)  # Calculate accuracy\n",
    "\n",
    "    # Early stopping logic\n",
    "    if val_loss < best_val_loss:\n",
    "        best_val_loss = val_loss\n",
    "        best_model = model.state_dict()\n",
    "        patience_counter = 0\n",
    "    else:\n",
    "        patience_counter += 1\n",
    "\n",
    "    if patience_counter >= early_stopping_patience:\n",
    "        print(\"Early stopping triggered.\")\n",
    "        break\n",
    "\n",
    "    # Update scheduler\n",
    "    scheduler.step()\n",
    "\n",
    "    # Print metrics\n",
    "    train_accuracy = compute_accuracy(y_pred, y_train)  # Calculate training accuracy\n",
    "    print(f\"Epoch {epoch + 1}, Loss: {loss.item()}, Val Loss: {val_loss.item()}, \"\n",
    "          f\"Train Accuracy: {train_accuracy:.2f}%, Val Accuracy: {val_accuracy:.2f}%\")\n"
   ]
  },
  {
   "cell_type": "code",
   "execution_count": null,
   "metadata": {},
   "outputs": [],
   "source": [
    "# Test performance\n",
    "model.load_state_dict(best_model)\n",
    "model.eval()\n",
    "test_data = torch.tensor(np.vstack([example[0] for example in test_data]), dtype=torch.float32)\n",
    "y_test = test_data[:, 2:]\n",
    "test_params = torch.tensor([example[1:] for example in test_data], dtype=torch.float32)\n",
    "\n",
    "y_test_pred = model(test_data)\n",
    "test_loss = criterion(y_test_pred, y_test)\n",
    "print(f\"Test Loss: {test_loss.item()}\")"
   ]
  },
  {
   "cell_type": "code",
   "execution_count": null,
   "metadata": {},
   "outputs": [],
   "source": [
    "def visualize_prediction(example, model, scaler, save_path=None):\n",
    "    X, l1, l2, _, _, _ = example\n",
    "    theta1, theta2 = X[:, 0], X[:, 1]\n",
    "\n",
    "    # Predict using the model\n",
    "    X_tensor = torch.tensor(scaler.transform(X), dtype=torch.float32)\n",
    "    y_pred = model(X_tensor).detach().numpy()\n",
    "\n",
    "    theta1_pred, theta2_pred = y_pred[:, 0], y_pred[:, 1]\n",
    "\n",
    "    # Compute positions for ground truth\n",
    "    x1 = l1 * np.sin(theta1)\n",
    "    y1 = -l1 * np.cos(theta1)\n",
    "    x2 = x1 + l2 * np.sin(theta2)\n",
    "    y2 = y1 - l2 * np.cos(theta2)\n",
    "\n",
    "    # Compute positions for predictions\n",
    "    x1_pred = l1 * np.sin(theta1_pred)\n",
    "    y1_pred = -l1 * np.cos(theta1_pred)\n",
    "    x2_pred = x1_pred + l2 * np.sin(theta2_pred)\n",
    "    y2_pred = y1_pred - l2 * np.cos(theta2_pred)\n",
    "\n",
    "    fig, ax = plt.subplots(figsize=(6, 6))\n",
    "    ax.set_xlim(-2.5, 2.5)\n",
    "    ax.set_ylim(-2.5, 2.5)\n",
    "    ax.set_aspect('equal')\n",
    "    line_true, = ax.plot([], [], 'o-', lw=2, label='Ground Truth')\n",
    "    line_pred, = ax.plot([], [], 'o--', lw=2, label='Prediction')\n",
    "    ax.legend()\n",
    "\n",
    "    def update(frame):\n",
    "        line_true.set_data([0, x1[frame], x2[frame]], [0, y1[frame], y2[frame]])\n",
    "        line_pred.set_data([0, x1_pred[frame], x2_pred[frame]], [0, y1_pred[frame], y2_pred[frame]])\n",
    "        return line_true, line_pred\n",
    "\n",
    "    ani = FuncAnimation(fig, update, frames=len(theta1), blit=True, interval=50)\n",
    "\n",
    "    if save_path:\n",
    "        ani.save(save_path, fps=20, writer='imagemagick')\n",
    "    else:\n",
    "        plt.show()\n",
    "\n",
    "# Visualize prediction vs ground truth for two examples\n",
    "visualize_prediction(test_data[0], model, scaler, save_path='prediction_vs_ground_truth1.gif')\n",
    "visualize_prediction(test_data[1], model, scaler, save_path='prediction_vs_ground_truth2.gif')"
   ]
  },
  {
   "cell_type": "code",
   "execution_count": null,
   "metadata": {},
   "outputs": [],
   "source": [
    "def train_sindy(X, t):\n",
    "    # Use custom feature library for trigonometric functions\n",
    "    library = ps.PolynomialLibrary(degree=3) + ps.TrigonometricLibrary([1, 2])\n",
    "\n",
    "    # Use a lower threshold to capture more dynamics\n",
    "    optimizer = ps.STLSQ(threshold=0.05)\n",
    "\n",
    "    # Instantiate and fit SINDy model\n",
    "    sindy_model = ps.SINDy(feature_library=library, optimizer=optimizer, differentiation_method=ps.FiniteDifference())\n",
    "    sindy_model.fit(X, t=t)\n",
    "    return sindy_model\n",
    "\n",
    "# Prepare data for SINDy\n",
    "X_sindy = np.vstack([example[0] for example in train_data])\n",
    "t_sindy = np.linspace(0, 10, X_sindy.shape[0])\n",
    "\n",
    "# Train SINDy model\n",
    "sindy_model = train_sindy(X_sindy, t_sindy)\n",
    "\n",
    "# Display discovered equations\n",
    "sindy_model.print()"
   ]
  },
  {
   "cell_type": "code",
   "execution_count": null,
   "metadata": {},
   "outputs": [],
   "source": [
    "# Visualize SINDy predictions vs ground truth\n",
    "def visualize_sindy_prediction(example, sindy_model, scaler, save_path=None):\n",
    "    X, l1, l2, _, _, _ = example\n",
    "    theta1, theta2 = X[:, 0], X[:, 1]\n",
    "\n",
    "    # Predict using the SINDy model\n",
    "    X_scaled = scaler.transform(X)\n",
    "    y_pred = sindy_model.simulate(X_scaled[0], t=np.linspace(0, 10, X.shape[0]))\n",
    "\n",
    "    theta1_pred, theta2_pred = y_pred[:, 0], y_pred[:, 1]\n",
    "\n",
    "    # Compute positions for ground truth\n",
    "    x1 = l1 * np.sin(theta1)\n",
    "    y1 = -l1 * np.cos(theta1)\n",
    "    x2 = x1 + l2 * np.sin(theta2)\n",
    "    y2 = y1 - l2 * np.cos(theta2)\n",
    "\n",
    "    # Compute positions for SINDy predictions\n",
    "    x1_pred = l1 * np.sin(theta1_pred)\n",
    "    y1_pred = -l1 * np.cos(theta1_pred)\n",
    "    x2_pred = x1_pred + l2 * np.sin(theta2_pred)\n",
    "    y2_pred = y1_pred - l2 * np.cos(theta2_pred)\n",
    "\n",
    "    fig, ax = plt.subplots(figsize=(6, 6))\n",
    "    ax.set_xlim(-2.5, 2.5)\n",
    "    ax.set_ylim(-2.5, 2.5)\n",
    "    ax.set_aspect('equal')\n",
    "    line_true, = ax.plot([], [], 'o-', lw=2, label='Ground Truth')\n",
    "    line_pred, = ax.plot([], [], 'o--', lw=2, label='SINDy Prediction')\n",
    "    ax.legend()\n",
    "\n",
    "    def update(frame):\n",
    "        line_true.set_data([0, x1[frame], x2[frame]], [0, y1[frame], y2[frame]])\n",
    "        line_pred.set_data([0, x1_pred[frame], x2_pred[frame]], [0, y1_pred[frame], y2_pred[frame]])\n",
    "        return line_true, line_pred\n",
    "\n",
    "    ani = FuncAnimation(fig, update, frames=len(theta1), blit=True, interval=50)\n",
    "\n",
    "    if save_path:\n",
    "        ani.save(save_path, fps=20, writer='imagemagick')\n",
    "    else:\n",
    "        plt.show()\n",
    "\n",
    "# Visualize SINDy prediction vs ground truth for two examples\n",
    "visualize_sindy_prediction(test_data[0], sindy_model, scaler, save_path='sindy_vs_ground_truth1.gif')\n",
    "visualize_sindy_prediction(test_data[1], sindy_model, scaler, save_path='sindy_vs_ground_truth2.gif')"
   ]
  }
 ],
 "metadata": {
  "kernelspec": {
   "display_name": "Python 3",
   "language": "python",
   "name": "python3"
  },
  "language_info": {
   "codemirror_mode": {
    "name": "ipython",
    "version": 3
   },
   "file_extension": ".py",
   "mimetype": "text/x-python",
   "name": "python",
   "nbconvert_exporter": "python",
   "pygments_lexer": "ipython3",
   "version": "3.11.9"
  }
 },
 "nbformat": 4,
 "nbformat_minor": 2
}
