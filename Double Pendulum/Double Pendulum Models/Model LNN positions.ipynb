{
 "cells": [
  {
   "cell_type": "code",
   "execution_count": 5,
   "metadata": {},
   "outputs": [
    {
     "name": "stderr",
     "output_type": "stream",
     "text": [
      "C:\\Users\\User\\AppData\\Local\\Packages\\PythonSoftwareFoundation.Python.3.11_qbz5n2kfra8p0\\LocalCache\\local-packages\\Python311\\site-packages\\tqdm\\auto.py:21: TqdmWarning: IProgress not found. Please update jupyter and ipywidgets. See https://ipywidgets.readthedocs.io/en/stable/user_install.html\n",
      "  from .autonotebook import tqdm as notebook_tqdm\n"
     ]
    }
   ],
   "source": [
    "import numpy as np\n",
    "import torch\n",
    "import torch.nn as nn\n",
    "import torch.optim as optim\n",
    "from torch.utils.data import DataLoader, TensorDataset\n",
    "from scipy.integrate import solve_ivp\n",
    "import matplotlib.pyplot as plt\n",
    "from matplotlib.animation import FuncAnimation\n",
    "from sklearn.model_selection import ParameterGrid\n",
    "from sklearn.metrics import mean_absolute_error, mean_squared_error\n",
    "import optuna\n",
    "from typing import Tuple, Any, Iterable, Dict"
   ]
  },
  {
   "cell_type": "code",
   "execution_count": 1,
   "metadata": {},
   "outputs": [],
   "source": [
    "# Double Pendulum Dynamics\n",
    "def double_pendulum(t, y, l1, l2, m1, m2, g):\n",
    "    theta1, z1, theta2, z2 = y\n",
    "    delta = theta2 - theta1\n",
    "    denom1 = (m1 + m2) * l1 - m2 * l1 * np.cos(delta) ** 2\n",
    "    denom2 = (l2 / l1) * denom1\n",
    "\n",
    "    dydt = np.zeros_like(y)\n",
    "    dydt[0] = z1\n",
    "    dydt[1] = (\n",
    "        (m2 * l1 * z1 ** 2 * np.sin(delta) * np.cos(delta)\n",
    "         + m2 * g * np.sin(theta2) * np.cos(delta)\n",
    "         + m2 * l2 * z2 ** 2 * np.sin(delta)\n",
    "         - (m1 + m2) * g * np.sin(theta1))\n",
    "        / denom1\n",
    "    )\n",
    "    dydt[2] = z2\n",
    "    dydt[3] = (\n",
    "        (-m2 * l2 * z2 ** 2 * np.sin(delta) * np.cos(delta)\n",
    "         + (m1 + m2) * g * np.sin(theta1) * np.cos(delta)\n",
    "         - (m1 + m2) * l1 * z1 ** 2 * np.sin(delta)\n",
    "         - (m1 + m2) * g * np.sin(theta2))\n",
    "        / denom2\n",
    "    )\n",
    "    return dydt"
   ]
  },
  {
   "cell_type": "code",
   "execution_count": 2,
   "metadata": {},
   "outputs": [],
   "source": [
    "#define the datasets size and dt\n",
    "n_pendulums = 800\n",
    "dt = 0.01"
   ]
  },
  {
   "cell_type": "code",
   "execution_count": 3,
   "metadata": {},
   "outputs": [],
   "source": [
    "# Dataset Generation\n",
    "def generate_dataset(n_pendulums, dt):\n",
    "    X_data, y_data = [], []\n",
    "    for _ in range(n_pendulums):\n",
    "        l1, l2 = np.random.uniform(0.5, 2.0, 2)\n",
    "        m1, m2 = np.random.uniform(0.5, 2.0, 2)\n",
    "        g = 9.81\n",
    "        y0 = np.random.uniform(-np.pi, np.pi, 4)\n",
    "        t_span = (0, 10)\n",
    "        t_eval = np.linspace(t_span[0], t_span[1], int(10 / dt))\n",
    "\n",
    "        sol = solve_ivp(double_pendulum, t_span, y0, t_eval=t_eval, args=(l1, l2, m1, m2, g), method='RK45')\n",
    "        theta1, z1, theta2, z2 = sol.y\n",
    "\n",
    "        for i in range(len(t_eval) - 1):\n",
    "            current_state = [theta1[i], theta2[i], z1[i], z2[i]]\n",
    "            next_state = [theta1[i + 1], theta2[i + 1], z1[i + 1], z2[i + 1]]\n",
    "            X_data.append(current_state)\n",
    "            y_data.append(next_state)\n",
    "\n",
    "    X_data = torch.tensor(X_data, dtype=torch.float32)\n",
    "    y_data = torch.tensor(y_data, dtype=torch.float32)\n",
    "    return X_data, y_data"
   ]
  },
  {
   "cell_type": "code",
   "execution_count": 6,
   "metadata": {},
   "outputs": [],
   "source": [
    "X_data, y_data = generate_dataset(n_pendulums, dt)"
   ]
  },
  {
   "cell_type": "code",
   "execution_count": 7,
   "metadata": {},
   "outputs": [
    {
     "name": "stderr",
     "output_type": "stream",
     "text": [
      "MovieWriter imagemagick unavailable; using Pillow instead.\n",
      "MovieWriter imagemagick unavailable; using Pillow instead.\n"
     ]
    },
    {
     "data": {
      "image/png": "[encoded data removed]",
      "text/plain": [
       "<Figure size 600x600 with 1 Axes>"
      ]
     },
     "metadata": {},
     "output_type": "display_data"
    },
    {
     "data": {
      "image/png": "[encoded data removed]",
      "text/plain": [
       "<Figure size 600x600 with 1 Axes>"
      ]
     },
     "metadata": {},
     "output_type": "display_data"
    }
   ],
   "source": [
    "# Visualization of Double Pendulum as Animation\n",
    "def visualize_double_pendulum(X_data, l1=1.0, l2=1.0, save_path=None):\n",
    "    theta1 = X_data[:, 0].numpy()\n",
    "    theta2 = X_data[:, 1].numpy()\n",
    "\n",
    "    # Compute positions\n",
    "    x1 = l1 * np.sin(theta1)\n",
    "    y1 = -l1 * np.cos(theta1)\n",
    "    x2 = x1 + l2 * np.sin(theta2)\n",
    "    y2 = y1 - l2 * np.cos(theta2)\n",
    "\n",
    "    fig, ax = plt.subplots(figsize=(6, 6))\n",
    "    ax.set_xlim(-2.5, 2.5)\n",
    "    ax.set_ylim(-2.5, 2.5)\n",
    "    ax.set_aspect('equal')\n",
    "    line, = ax.plot([], [], 'o-', lw=2)\n",
    "\n",
    "    def init():\n",
    "        line.set_data([], [])\n",
    "        return line,\n",
    "\n",
    "    def update(frame):\n",
    "        line.set_data([0, x1[frame], x2[frame]], [0, y1[frame], y2[frame]])\n",
    "        return line,\n",
    "\n",
    "    ani = FuncAnimation(fig, update, frames=len(theta1), blit=True, interval=50)\n",
    "\n",
    "    if save_path:\n",
    "        ani.save(save_path, fps=20, writer='imagemagick')\n",
    "    else:\n",
    "        plt.show()\n",
    "\n",
    "# Example Visualization\n",
    "# Visualize two examples\n",
    "visualize_double_pendulum(X_data[:200], save_path='double_pendulum1.gif')  # Example from the dataset\n",
    "visualize_double_pendulum(X_data[200:400], save_path='double_pendulum2.gif')"
   ]
  },
  {
   "cell_type": "code",
   "execution_count": 7,
   "metadata": {},
   "outputs": [],
   "source": [
    "# Energy-Based Loss Function\n",
    "def energy_loss(pred_coords, pred_coords_dot, true_coords, true_coords_dot, l1, l2, m1, m2, g):\n",
    "    def compute_energy(coords, coords_dot):\n",
    "        theta1, theta2 = coords[:, 0], coords[:, 1]\n",
    "        theta1_dot, theta2_dot = coords_dot[:, 0], coords_dot[:, 1]\n",
    "\n",
    "        T1 = 0.5 * m1 * (l1 ** 2) * (theta1_dot ** 2)\n",
    "        T2 = 0.5 * m2 * (\n",
    "            (l1 ** 2) * (theta1_dot ** 2)\n",
    "            + (l2 ** 2) * (theta2_dot ** 2)\n",
    "            + 2 * l1 * l2 * theta1_dot * theta2_dot * torch.cos(theta2 - theta1)\n",
    "        )\n",
    "        V1 = -m1 * g * l1 * torch.cos(theta1)\n",
    "        V2 = -m2 * g * (l1 * torch.cos(theta1) + l2 * torch.cos(theta2))\n",
    "\n",
    "        T = T1 + T2\n",
    "        V = V1 + V2\n",
    "        return T + V\n",
    "\n",
    "    pred_energy = compute_energy(pred_coords, pred_coords_dot)\n",
    "    true_energy = compute_energy(true_coords, true_coords_dot)\n",
    "\n",
    "    return torch.mean((pred_energy - true_energy) ** 2)"
   ]
  },
  {
   "cell_type": "code",
   "execution_count": 8,
   "metadata": {},
   "outputs": [],
   "source": [
    "# Double Pendulum LNN Class\n",
    "class LagrangianNN(nn.Module):\n",
    "    def __init__(self, input_dim, hidden_dim):\n",
    "        super(LagrangianNN, self).__init__()\n",
    "        self.net = nn.Sequential(\n",
    "            nn.Linear(input_dim, hidden_dim),\n",
    "            nn.SiLU(),\n",
    "            nn.Linear(hidden_dim, hidden_dim),\n",
    "            nn.SiLU(),\n",
    "            nn.Linear(hidden_dim, 1)  # Output the Lagrangian scalar\n",
    "        )\n",
    "\n",
    "    def forward(self, x):\n",
    "        return self.net(x)"
   ]
  },
  {
   "cell_type": "code",
   "execution_count": null,
   "metadata": {},
   "outputs": [],
   "source": [
    "class DoublePendulumLNN:\n",
    "    def __init__(self, hidden_dim=128, lr=1e-3):\n",
    "        self.device = torch.device(\"cuda\" if torch.cuda.is_available() else \"cpu\")\n",
    "        self.model = LagrangianNN(input_dim=4, hidden_dim=hidden_dim).to(self.device)\n",
    "        self.optimizer = optim.Adam(self.model.parameters(), lr=lr, weight_decay=1e-4)\n",
    "        self.criterion = nn.MSELoss()\n",
    "\n"
   ]
  },
  {
   "cell_type": "code",
   "execution_count": null,
   "metadata": {},
   "outputs": [],
   "source": [
    "def predict_next_state(self, coords, coords_dot, dt):\n",
    "    coords.requires_grad_(True)\n",
    "    coords_dot.requires_grad_(True)\n",
    "\n",
    "    coords_dot_input = torch.cat((coords, coords_dot), dim=1)\n",
    "    print(f\"coords.requires_grad: {coords.requires_grad}, coords_dot.requires_grad: {coords_dot.requires_grad}\")\n",
    "    print(f\"coords_dot_input.requires_grad: {coords_dot_input.requires_grad}\")\n",
    "\n",
    "    L = self.model(coords_dot_input)\n",
    "    print(f\"L.requires_grad: {L.requires_grad}, L.grad_fn: {L.grad_fn}\")\n",
    "\n",
    "    accel = self.lagrangian_to_accelerations(coords, coords_dot, L)\n",
    "\n",
    "    k1 = accel\n",
    "    k2 = accel + 0.5 * dt * k1\n",
    "    k3 = accel + 0.5 * dt * k2\n",
    "    k4 = accel + dt * k3\n",
    "\n",
    "    next_coords = coords + dt / 6 * (k1 + 2 * k2 + 2 * k3 + k4)\n",
    "    next_coords_dot = coords_dot + accel * dt\n",
    "    return next_coords, next_coords_dot"
   ]
  },
  {
   "cell_type": "code",
   "execution_count": null,
   "metadata": {},
   "outputs": [],
   "source": [
    "def lagrangian_to_accelerations(self, coords, coords_dot, L):\n",
    "    coords.requires_grad_(True)\n",
    "    coords_dot.requires_grad_(True)\n",
    "\n",
    "    print(f\"Checking gradients for coords and coords_dot...\")\n",
    "    print(f\"L: {L}\")\n",
    "    print(f\"coords.requires_grad: {coords.requires_grad}, coords_dot.requires_grad: {coords_dot.requires_grad}\")\n",
    "    print(f\"L.requires_grad: {L.requires_grad}\")\n",
    "\n",
    "    dL_dq = torch.autograd.grad(L.sum(), coords, create_graph=True, allow_unused=True)[0]\n",
    "    dL_dq_dot = torch.autograd.grad(L.sum(), coords_dot, create_graph=True, allow_unused=True)[0]\n",
    "\n",
    "    if dL_dq is None or dL_dq_dot is None:\n",
    "        print(\"Gradient calculation failed. L is not properly connected to coords or coords_dot.\")\n",
    "        print(f\"L: {L}\")\n",
    "        print(f\"dL_dq: {dL_dq}, dL_dq_dot: {dL_dq_dot}\")\n",
    "        raise ValueError(\"Gradient calculation returned None. Check inputs and computation graph.\")\n",
    "\n",
    "    accel = torch.autograd.grad(dL_dq_dot.sum(), coords_dot, create_graph=True, allow_unused=True)[0] - dL_dq\n",
    "    return accel"
   ]
  },
  {
   "cell_type": "code",
   "execution_count": 76,
   "metadata": {},
   "outputs": [],
   "source": [
    "def train(self, train_loader, val_loader, dt, epochs=100, l1=1.0, l2=1.0, m1=1.0, m2=1.0, g=9.81):\n",
    "    scheduler = optim.lr_scheduler.StepLR(self.optimizer, step_size=10, gamma=0.5)\n",
    "    early_stopping = EarlyStopping(patience=10)\n",
    "\n",
    "    for epoch in range(epochs):\n",
    "        self.model.train()\n",
    "        total_loss = 0\n",
    "        for coords, true_next_coords in train_loader:\n",
    "            coords, true_next_coords = coords.to(self.device), true_next_coords.to(self.device)\n",
    "            coords, coords_dot = coords[:, :2], coords[:, 2:]\n",
    "            true_coords, true_coords_dot = true_next_coords[:, :2], true_next_coords[:, 2:]\n",
    "\n",
    "            self.optimizer.zero_grad()\n",
    "            pred_next_coords, pred_next_coords_dot = self.predict_next_state(coords, coords_dot, dt)\n",
    "\n",
    "            loss = (\n",
    "                self.criterion(pred_next_coords, true_coords)\n",
    "                + self.criterion(pred_next_coords_dot, true_coords_dot)\n",
    "                + energy_loss(pred_next_coords, pred_next_coords_dot, true_coords, true_coords_dot, l1, l2, m1, m2, g)\n",
    "            )\n",
    "            loss.backward()\n",
    "            self.optimizer.step()\n",
    "            total_loss += loss.item()\n",
    "\n",
    "        scheduler.step()\n",
    "        val_loss = self.evaluate(val_loader, dt, l1, l2, m1, m2, g)\n",
    "        print(f\"Epoch {epoch + 1}/{epochs}, Train Loss: {total_loss / len(train_loader):.6f}, Val Loss: {val_loss:.6f}\")\n",
    "\n",
    "        if early_stopping(val_loss):\n",
    "            print(\"Early stopping triggered.\")\n",
    "            break"
   ]
  },
  {
   "cell_type": "code",
   "execution_count": 77,
   "metadata": {},
   "outputs": [],
   "source": [
    "def evaluate(self, data_loader, dt, l1=1.0, l2=1.0, m1=1.0, m2=1.0, g=9.81):\n",
    "    self.model.eval()\n",
    "    total_loss = 0\n",
    "    with torch.no_grad():\n",
    "        for coords, true_next_coords in data_loader:\n",
    "            coords, true_next_coords = coords.to(self.device), true_next_coords.to(self.device)\n",
    "            coords, coords_dot = coords[:, :2], coords[:, 2:]\n",
    "            true_coords, true_coords_dot = true_next_coords[:, :2], true_next_coords[:, 2:]\n",
    "\n",
    "            pred_next_coords, pred_next_coords_dot = self.predict_next_state(coords, coords_dot, dt)\n",
    "\n",
    "            loss = (\n",
    "                self.criterion(pred_next_coords, true_coords)\n",
    "                + self.criterion(pred_next_coords_dot, true_coords_dot)\n",
    "                + energy_loss(pred_next_coords, pred_next_coords_dot, true_coords, true_coords_dot, l1, l2, m1, m2, g)\n",
    "            )\n",
    "            total_loss += loss.item()\n",
    "\n",
    "    return total_loss / len(data_loader)"
   ]
  },
  {
   "cell_type": "code",
   "execution_count": 78,
   "metadata": {},
   "outputs": [],
   "source": [
    "# Early Stopping Class\n",
    "class EarlyStopping:\n",
    "    def __init__(self, patience=10, min_delta=0):\n",
    "        self.patience = patience\n",
    "        self.min_delta = min_delta\n",
    "        self.counter = 0\n",
    "        self.best_loss = float('inf')\n",
    "        self.early_stop = False\n",
    "\n",
    "    def __call__(self, val_loss):\n",
    "        if val_loss < self.best_loss - self.min_delta:\n",
    "            self.best_loss = val_loss\n",
    "            self.counter = 0\n",
    "        else:\n",
    "            self.counter += 1\n",
    "            if self.counter >= self.patience:\n",
    "                self.early_stop = True"
   ]
  },
  {
   "cell_type": "code",
   "execution_count": 79,
   "metadata": {},
   "outputs": [],
   "source": [
    "# Hyperparameter Tuning\n",
    "def tune_hyperparameters(train_loader, val_loader, dt):\n",
    "    def objective(trial):\n",
    "        hidden_dim = trial.suggest_int(\"hidden_dim\", 64, 256)\n",
    "        lr = trial.suggest_float(\"lr\", 1e-4, 1e-2, log=True)\n",
    "        model = DoublePendulumLNN(hidden_dim=hidden_dim, lr=lr)\n",
    "        model.train(train_loader, val_loader, dt, epochs=50)\n",
    "        return model.evaluate(val_loader, dt)\n",
    "\n",
    "    study = optuna.create_study(direction=\"minimize\")\n",
    "    study.optimize(objective, n_trials=20)\n",
    "    print(f\"Best Parameters: {study.best_params}\")\n",
    "    return study.best_params"
   ]
  },
  {
   "cell_type": "code",
   "execution_count": null,
   "metadata": {},
   "outputs": [],
   "source": [
    "# Hyperparameter Tuning\n",
    "best_params = tune_hyperparameters(train_loader, val_loader, dt)"
   ]
  },
  {
   "cell_type": "code",
   "execution_count": null,
   "metadata": {},
   "outputs": [],
   "source": [
    "# Train Best Model\n",
    "lnn = DoublePendulumLNN(hidden_dim=best_params['hidden_dim'], lr=best_params['lr'])\n",
    "lnn.train(train_loader, val_loader, dt, epochs=100)"
   ]
  },
  {
   "cell_type": "code",
   "execution_count": null,
   "metadata": {},
   "outputs": [],
   "source": [
    "# Evaluate on Test Data\n",
    "test_loss = lnn.evaluate(test_loader, dt)\n",
    "print(f\"Test Loss: {test_loss:.6f}\")"
   ]
  },
  {
   "cell_type": "code",
   "execution_count": null,
   "metadata": {},
   "outputs": [],
   "source": [
    "def visualize_predictions_as_video(self, data_loader, dt, l1=1.0, l2=1.0):\n",
    "    self.model.eval()\n",
    "    with torch.no_grad():\n",
    "        for coords, true_next_coords in data_loader:\n",
    "            coords, coords_dot = coords[:, :2], coords[:, 2:]\n",
    "            true_coords, true_coords_dot = true_next_coords[:, :2], true_next_coords[:, 2:]\n",
    "\n",
    "            pred_next_coords, pred_next_coords_dot = self.predict_next_state(coords, coords_dot, dt)\n",
    "\n",
    "            # Visualize the first example in the batch\n",
    "            theta1 = coords[0, 0].item()\n",
    "            theta2 = coords[0, 1].item()\n",
    "            theta1_pred = pred_next_coords[0, 0].item()\n",
    "            theta2_pred = pred_next_coords[0, 1].item()\n",
    "\n",
    "            # Convert angles to coordinates\n",
    "            x1_true = l1 * np.sin(theta1)\n",
    "            y1_true = -l1 * np.cos(theta1)\n",
    "            x2_true = x1_true + l2 * np.sin(theta2)\n",
    "            y2_true = y1_true - l2 * np.cos(theta2)\n",
    "\n",
    "            x1_pred = l1 * np.sin(theta1_pred)\n",
    "            y1_pred = -l1 * np.cos(theta1_pred)\n",
    "            x2_pred = x1_pred + l2 * np.sin(theta2_pred)\n",
    "            y2_pred = y1_pred - l2 * np.cos(theta2_pred)\n",
    "\n",
    "            fig, ax = plt.subplots()\n",
    "            ax.set_xlim(-2 * (l1 + l2), 2 * (l1 + l2))\n",
    "            ax.set_ylim(-2 * (l1 + l2), 2 * (l1 + l2))\n",
    "\n",
    "            line_true, = ax.plot([], [], 'o-', label='True')\n",
    "            line_pred, = ax.plot([], [], 'x--', label='Predicted')\n",
    "            ax.legend()\n",
    "\n",
    "            def init():\n",
    "                line_true.set_data([], [])\n",
    "                line_pred.set_data([], [])\n",
    "                return line_true, line_pred\n",
    "\n",
    "            def update(frame):\n",
    "                nonlocal theta1, theta2, theta1_pred, theta2_pred\n",
    "\n",
    "                # Update true positions\n",
    "                theta1 += coords_dot[0, 0].item() * dt\n",
    "                theta2 += coords_dot[0, 1].item() * dt\n",
    "\n",
    "                x1_true = l1 * np.sin(theta1)\n",
    "                y1_true = -l1 * np.cos(theta1)\n",
    "                x2_true = x1_true + l2 * np.sin(theta2)\n",
    "                y2_true = y1_true - l2 * np.cos(theta2)\n",
    "\n",
    "                # Update predicted positions\n",
    "                theta1_pred += pred_next_coords_dot[0, 0].item() * dt\n",
    "                theta2_pred += pred_next_coords_dot[0, 1].item() * dt\n",
    "\n",
    "                x1_pred = l1 * np.sin(theta1_pred)\n",
    "                y1_pred = -l1 * np.cos(theta1_pred)\n",
    "                x2_pred = x1_pred + l2 * np.sin(theta2_pred)\n",
    "                y2_pred = y1_pred - l2 * np.cos(theta2_pred)\n",
    "\n",
    "                line_true.set_data([0, x1_true, x2_true], [0, y1_true, y2_true])\n",
    "                line_pred.set_data([0, x1_pred, x2_pred], [0, y1_pred, y2_pred])\n",
    "                return line_true, line_pred\n",
    "\n",
    "            ani = FuncAnimation(fig, update, frames=200, init_func=init, blit=True)\n",
    "            plt.show()\n",
    "            break"
   ]
  }
 ],
 "metadata": {
  "kernelspec": {
   "display_name": "Python 3",
   "language": "python",
   "name": "python3"
  },
  "language_info": {
   "codemirror_mode": {
    "name": "ipython",
    "version": 3
   },
   "file_extension": ".py",
   "mimetype": "text/x-python",
   "name": "python",
   "nbconvert_exporter": "python",
   "pygments_lexer": "ipython3",
   "version": "3.11.9"
  }
 },
 "nbformat": 4,
 "nbformat_minor": 2
}
